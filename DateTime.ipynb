{
 "cells": [
  {
   "cell_type": "markdown",
   "id": "ec7aab29",
   "metadata": {},
   "source": [
    "#####   \n",
    "# DateTime\n",
    " - source: https://www.programiz.com/python-programming/datetime"
   ]
  },
  {
   "cell_type": "code",
   "execution_count": 1,
   "id": "1ad4a29f",
   "metadata": {},
   "outputs": [],
   "source": [
    "import datetime  \n",
    "import pytz"
   ]
  },
  {
   "cell_type": "markdown",
   "id": "91a695cf",
   "metadata": {},
   "source": [
    "## Current Date & Time"
   ]
  },
  {
   "cell_type": "code",
   "execution_count": 2,
   "id": "00e85b9a",
   "metadata": {},
   "outputs": [
    {
     "name": "stdout",
     "output_type": "stream",
     "text": [
      "2023-12-12\n"
     ]
    }
   ],
   "source": [
    "Today = datetime.date.today()\n",
    "print( Today )"
   ]
  },
  {
   "cell_type": "code",
   "execution_count": 3,
   "id": "e25ab520",
   "metadata": {},
   "outputs": [
    {
     "name": "stdout",
     "output_type": "stream",
     "text": [
      "2023-12-12 06:10:30.128847\n"
     ]
    }
   ],
   "source": [
    "Now = datetime.datetime.now()\n",
    "print( Now )"
   ]
  },
  {
   "cell_type": "markdown",
   "id": "3de68147",
   "metadata": {},
   "source": [
    "## date"
   ]
  },
  {
   "cell_type": "code",
   "execution_count": 4,
   "id": "8901d7db",
   "metadata": {},
   "outputs": [
    {
     "name": "stdout",
     "output_type": "stream",
     "text": [
      "2023-12-12\n"
     ]
    }
   ],
   "source": [
    "x = datetime.date.today()\n",
    "print( x )"
   ]
  },
  {
   "cell_type": "code",
   "execution_count": 5,
   "id": "72def03b",
   "metadata": {},
   "outputs": [
    {
     "data": {
      "text/plain": [
       "[2023, 12, 12]"
      ]
     },
     "execution_count": 5,
     "metadata": {},
     "output_type": "execute_result"
    }
   ],
   "source": [
    "[x.year, x.month, x.day]"
   ]
  },
  {
   "cell_type": "code",
   "execution_count": 6,
   "id": "63280814",
   "metadata": {},
   "outputs": [
    {
     "name": "stdout",
     "output_type": "stream",
     "text": [
      "597 days, 0:00:00\n"
     ]
    }
   ],
   "source": [
    "t1 = datetime.date(year = 2019, month = 3, day = 12)\n",
    "t2 = datetime.date(year = 2017, month = 7, day = 23)\n",
    "\n",
    "t3 = t1 - t2\n",
    "print( t3 )"
   ]
  },
  {
   "cell_type": "markdown",
   "id": "99c91d21",
   "metadata": {},
   "source": [
    "## time"
   ]
  },
  {
   "cell_type": "code",
   "execution_count": 7,
   "id": "ebfa6264",
   "metadata": {},
   "outputs": [
    {
     "name": "stdout",
     "output_type": "stream",
     "text": [
      "00:00:00\n"
     ]
    }
   ],
   "source": [
    "x = datetime.time()\n",
    "print( x )"
   ]
  },
  {
   "cell_type": "code",
   "execution_count": 8,
   "id": "bab15659",
   "metadata": {},
   "outputs": [
    {
     "name": "stdout",
     "output_type": "stream",
     "text": [
      "17:34:56\n"
     ]
    }
   ],
   "source": [
    "x = datetime.time(17, 34, 56)\n",
    "print( x )"
   ]
  },
  {
   "cell_type": "code",
   "execution_count": 9,
   "id": "cdd924cf",
   "metadata": {},
   "outputs": [
    {
     "data": {
      "text/plain": [
       "[17, 34, 56]"
      ]
     },
     "execution_count": 9,
     "metadata": {},
     "output_type": "execute_result"
    }
   ],
   "source": [
    "[x.hour, x.minute, x.second]"
   ]
  },
  {
   "cell_type": "markdown",
   "id": "8e252e90",
   "metadata": {},
   "source": [
    "## date-time"
   ]
  },
  {
   "cell_type": "code",
   "execution_count": 10,
   "id": "ec587549",
   "metadata": {},
   "outputs": [
    {
     "name": "stdout",
     "output_type": "stream",
     "text": [
      "2022-12-28 00:00:00\n"
     ]
    }
   ],
   "source": [
    "x = datetime.datetime(2022, 12, 28)\n",
    "print( x )"
   ]
  },
  {
   "cell_type": "code",
   "execution_count": 11,
   "id": "523cbdaf",
   "metadata": {},
   "outputs": [
    {
     "name": "stdout",
     "output_type": "stream",
     "text": [
      "2022-12-28 23:55:59.342380\n"
     ]
    }
   ],
   "source": [
    "x = datetime.datetime(2022, 12, 28, 23, 55, 59, 342380)\n",
    "print( x )"
   ]
  },
  {
   "cell_type": "code",
   "execution_count": 12,
   "id": "2677a942",
   "metadata": {},
   "outputs": [
    {
     "data": {
      "text/plain": [
       "[2022, 12, 28, 23, 55, 59]"
      ]
     },
     "execution_count": 12,
     "metadata": {},
     "output_type": "execute_result"
    }
   ],
   "source": [
    "[x.year, x.month, x.day, x.hour, x.minute, x.second]"
   ]
  },
  {
   "cell_type": "code",
   "execution_count": 13,
   "id": "407ddbad",
   "metadata": {},
   "outputs": [
    {
     "name": "stdout",
     "output_type": "stream",
     "text": [
      "-850 days, 1:24:20\n"
     ]
    }
   ],
   "source": [
    "t4 = datetime.datetime(year = 2017, month = 3, day = 12, hour = 7, minute = 19, second = 33)\n",
    "t5 = datetime.datetime(year = 2019, month = 7, day = 10, hour = 5, minute = 55, second = 13)\n",
    "\n",
    "t6 = t4-t5\n",
    "print( t6 )"
   ]
  },
  {
   "cell_type": "markdown",
   "id": "3d7c90b8",
   "metadata": {},
   "source": [
    "## time-delta"
   ]
  },
  {
   "cell_type": "code",
   "execution_count": 14,
   "id": "69b4fbf9",
   "metadata": {},
   "outputs": [
    {
     "name": "stdout",
     "output_type": "stream",
     "text": [
      "14 days, 13:55:39\n"
     ]
    }
   ],
   "source": [
    "t1 = datetime.timedelta(weeks = 2, days =   5,   hours = 1, seconds = 33)\n",
    "t2 = datetime.timedelta( days = 4, hours = 11, minutes = 4, seconds = 54)\n",
    "\n",
    "t3 = t1 - t2\n",
    "print( t3 )"
   ]
  },
  {
   "cell_type": "code",
   "execution_count": 15,
   "id": "1346e109",
   "metadata": {},
   "outputs": [
    {
     "data": {
      "text/plain": [
       "1259739.0"
      ]
     },
     "execution_count": 15,
     "metadata": {},
     "output_type": "execute_result"
    }
   ],
   "source": [
    "t3.total_seconds()"
   ]
  },
  {
   "cell_type": "markdown",
   "id": "6f4c9443",
   "metadata": {},
   "source": [
    "## format"
   ]
  },
  {
   "cell_type": "code",
   "execution_count": 16,
   "id": "a12e78de",
   "metadata": {},
   "outputs": [
    {
     "name": "stdout",
     "output_type": "stream",
     "text": [
      "2023-12-12 06:10:30.454663\n"
     ]
    }
   ],
   "source": [
    "now = datetime.datetime.now()\n",
    "print( now )"
   ]
  },
  {
   "cell_type": "code",
   "execution_count": 17,
   "id": "38bd95be",
   "metadata": {},
   "outputs": [
    {
     "name": "stdout",
     "output_type": "stream",
     "text": [
      "12/12/2023, 06:10:30\n"
     ]
    }
   ],
   "source": [
    "s1 = now.strftime(\"%m/%d/%Y, %H:%M:%S\")\n",
    "print( s1 )"
   ]
  },
  {
   "cell_type": "code",
   "execution_count": 18,
   "id": "44ac079e",
   "metadata": {},
   "outputs": [
    {
     "name": "stdout",
     "output_type": "stream",
     "text": [
      "12/12/2023, 06:10:30\n"
     ]
    }
   ],
   "source": [
    "s2 = now.strftime(\"%d/%m/%Y, %H:%M:%S\")\n",
    "print( s2 )"
   ]
  },
  {
   "cell_type": "markdown",
   "id": "154d3512",
   "metadata": {},
   "source": [
    "## timezone"
   ]
  },
  {
   "cell_type": "code",
   "execution_count": 19,
   "id": "95dbd1a5",
   "metadata": {},
   "outputs": [
    {
     "name": "stdout",
     "output_type": "stream",
     "text": [
      "12/12/2023, 06:10:30\n"
     ]
    }
   ],
   "source": [
    "local = datetime.datetime.now().strftime(\"%m/%d/%Y, %H:%M:%S\")\n",
    "print( local )"
   ]
  },
  {
   "cell_type": "code",
   "execution_count": 20,
   "id": "c638129a",
   "metadata": {},
   "outputs": [
    {
     "name": "stdout",
     "output_type": "stream",
     "text": [
      "12/11/2023, 21:40:30\n"
     ]
    }
   ],
   "source": [
    "tz_NY       = pytz.timezone('America/New_York') \n",
    "datetime_NY = datetime.datetime.now(tz_NY).strftime(\"%m/%d/%Y, %H:%M:%S\")\n",
    "print( datetime_NY )"
   ]
  },
  {
   "cell_type": "code",
   "execution_count": 21,
   "id": "5812f11c",
   "metadata": {},
   "outputs": [
    {
     "name": "stdout",
     "output_type": "stream",
     "text": [
      "12/12/2023, 03:40:30\n"
     ]
    }
   ],
   "source": [
    "tz_Paris       = pytz.timezone('Europe/Paris') \n",
    "datetime_Paris = datetime.datetime.now(tz_Paris).strftime(\"%m/%d/%Y, %H:%M:%S\")\n",
    "print( datetime_Paris )"
   ]
  },
  {
   "cell_type": "markdown",
   "id": "57e2f8e8",
   "metadata": {},
   "source": [
    "#####   "
   ]
  },
  {
   "cell_type": "markdown",
   "id": "45ff8b68",
   "metadata": {},
   "source": [
    "#####   "
   ]
  }
 ],
 "metadata": {
  "kernelspec": {
   "display_name": "Python 3 (ipykernel)",
   "language": "python",
   "name": "python3"
  },
  "language_info": {
   "codemirror_mode": {
    "name": "ipython",
    "version": 3
   },
   "file_extension": ".py",
   "mimetype": "text/x-python",
   "name": "python",
   "nbconvert_exporter": "python",
   "pygments_lexer": "ipython3",
   "version": "3.10.13"
  }
 },
 "nbformat": 4,
 "nbformat_minor": 5
}
