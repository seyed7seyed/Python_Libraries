{
 "cells": [
  {
   "cell_type": "markdown",
   "metadata": {},
   "source": [
    "#  \n",
    "<span style=\"font-family:Arial; font-weight:Bold; font-size:2.5em; color:#00b3e5;\"> Function, List, Class"
   ]
  },
  {
   "cell_type": "markdown",
   "metadata": {},
   "source": [
    "#  \n",
    "<span style=\"font-family:Arial; font-weight:Bold; font-size:2.3em; color:#29d15e;\"> Python Functions\n",
    " - **String** \n",
    " - **List**\n",
    " - **Nested / Inner**\n",
    " - **Lambda**\n",
    " - **Math**\n",
    " - **Recursive**\n",
    " - **Pure**\n",
    " - **Boolean**"
   ]
  },
  {
   "cell_type": "markdown",
   "metadata": {},
   "source": [
    "<span style=\"font-family:Arial; font-weight:Bold; font-size:1.8em; color:blue;\"> Set"
   ]
  },
  {
   "cell_type": "code",
   "execution_count": 1,
   "metadata": {},
   "outputs": [
    {
     "name": "stdout",
     "output_type": "stream",
     "text": [
      "{1, 2, 3, 4, 5, 6, 7}\n",
      "{3, 4, 5}\n"
     ]
    }
   ],
   "source": [
    "s1 = {1,2,3,4,5}\n",
    "s2 = {3,4,5,6,7}\n",
    "\n",
    "print( s1.union(s2)        )\n",
    "print( s1.intersection(s2) )"
   ]
  },
  {
   "cell_type": "code",
   "execution_count": 2,
   "metadata": {},
   "outputs": [
    {
     "data": {
      "text/plain": [
       "{10, 20, 30, 40, 50, 60}"
      ]
     },
     "execution_count": 2,
     "metadata": {},
     "output_type": "execute_result"
    }
   ],
   "source": [
    "s3 = { 10, 20 }\n",
    "s3.add( 30 )\n",
    "s3.update([ 40, 50, 60 ])\n",
    "s3"
   ]
  },
  {
   "cell_type": "markdown",
   "metadata": {},
   "source": [
    "<span style=\"font-family:Arial; font-weight:Bold; font-size:1.8em; color:#20cc9c;\"> List"
   ]
  },
  {
   "cell_type": "code",
   "execution_count": 3,
   "metadata": {},
   "outputs": [
    {
     "data": {
      "text/plain": [
       "['Rose', 'Lily', 'Lily', 'Rose']"
      ]
     },
     "execution_count": 3,
     "metadata": {},
     "output_type": "execute_result"
    }
   ],
   "source": [
    "L = ['Rose','Lily','Lily','Rose']\n",
    "L"
   ]
  },
  {
   "cell_type": "code",
   "execution_count": 4,
   "metadata": {},
   "outputs": [
    {
     "data": {
      "text/plain": [
       "2"
      ]
     },
     "execution_count": 4,
     "metadata": {},
     "output_type": "execute_result"
    }
   ],
   "source": [
    "L.count('Lily')"
   ]
  },
  {
   "cell_type": "code",
   "execution_count": 5,
   "metadata": {},
   "outputs": [
    {
     "data": {
      "text/plain": [
       "['Rose', 'Lily', 'Lily', 'Rose', 'Violet']"
      ]
     },
     "execution_count": 5,
     "metadata": {},
     "output_type": "execute_result"
    }
   ],
   "source": [
    "L.append('Violet')\n",
    "L"
   ]
  },
  {
   "cell_type": "code",
   "execution_count": 6,
   "metadata": {},
   "outputs": [
    {
     "data": {
      "text/plain": [
       "['Violet', 'Rose', 'Rose', 'Lily', 'Lily']"
      ]
     },
     "execution_count": 6,
     "metadata": {},
     "output_type": "execute_result"
    }
   ],
   "source": [
    "L.sort( reverse=True )\n",
    "L"
   ]
  },
  {
   "cell_type": "markdown",
   "metadata": {},
   "source": [
    "<span style=\"font-family:Arial; font-weight:Bold; font-size:1.8em; color:#20cc9c;\"> lambda"
   ]
  },
  {
   "cell_type": "code",
   "execution_count": 7,
   "metadata": {},
   "outputs": [
    {
     "data": {
      "text/plain": [
       "125"
      ]
     },
     "execution_count": 7,
     "metadata": {},
     "output_type": "execute_result"
    }
   ],
   "source": [
    "Cube = lambda x: x**3         # def Cube(x): return x**3\n",
    "Cube(5)"
   ]
  },
  {
   "cell_type": "markdown",
   "metadata": {},
   "source": [
    "<span style=\"font-family:Arial; font-weight:Bold; font-size:1.8em; color:#20cc9c;\"> Recursive"
   ]
  },
  {
   "cell_type": "code",
   "execution_count": 8,
   "metadata": {},
   "outputs": [
    {
     "data": {
      "text/plain": [
       "6"
      ]
     },
     "execution_count": 8,
     "metadata": {},
     "output_type": "execute_result"
    }
   ],
   "source": [
    "def factorial(a):\n",
    "    # type check\n",
    "    if type(a) != int : return None\n",
    "    # Base\n",
    "    if a == 0: return 1\n",
    "    # Recursion\n",
    "    if a >  0: return a*factorial(a-1)\n",
    "    if a <  0: return None\n",
    "factorial(3)"
   ]
  },
  {
   "cell_type": "markdown",
   "metadata": {},
   "source": [
    "<span style=\"font-family:Arial; font-weight:Bold; font-size:1.8em; color:#20cc9c;\"> Pure / Impure"
   ]
  },
  {
   "cell_type": "code",
   "execution_count": 9,
   "metadata": {},
   "outputs": [
    {
     "name": "stdout",
     "output_type": "stream",
     "text": [
      "['Lily', 'Rose', 'Lotus']\n",
      "['Lily', 'Rose', 'Lotus']\n"
     ]
    }
   ],
   "source": [
    "def Impure_func(List): \n",
    "    del List[0], List[-1]\n",
    "    return List\n",
    "\n",
    "A = ['Jasmine','Lily','Rose','Lotus','Violet']\n",
    "B = Impure_func(A)\n",
    "print(A)\n",
    "print(B)"
   ]
  },
  {
   "cell_type": "code",
   "execution_count": 10,
   "metadata": {},
   "outputs": [
    {
     "name": "stdout",
     "output_type": "stream",
     "text": [
      "['Jasmine', 'Lily', 'Rose', 'Lotus', 'Violet']\n",
      "['Lily', 'Rose', 'Lotus']\n"
     ]
    }
   ],
   "source": [
    "def Pure_func(List): \n",
    "    return List[1:-1]\n",
    "\n",
    "A = ['Jasmine','Lily','Rose','Lotus','Violet']\n",
    "B = Pure_func(A)\n",
    "print(A)\n",
    "print(B)"
   ]
  },
  {
   "cell_type": "markdown",
   "metadata": {},
   "source": [
    "<span style=\"font-family:Arial; font-weight:Bold; font-size:1.8em; color:#20cc9c;\"> Boolean"
   ]
  },
  {
   "cell_type": "code",
   "execution_count": 11,
   "metadata": {},
   "outputs": [
    {
     "name": "stdout",
     "output_type": "stream",
     "text": [
      "3 \t True \t 0 \t False\n",
      "A \t True \t  \t False\n",
      "[7] \t True \t [] \t False\n",
      "True \t True \t False \t False\n",
      "\t \t None \t False\n"
     ]
    }
   ],
   "source": [
    "a = 3\n",
    "b = 0\n",
    "c = 'A'\n",
    "d = ''\n",
    "e = [7]\n",
    "f = []\n",
    "g = True\n",
    "h = False\n",
    "i = None\n",
    "\n",
    "print( a, '\\t' , bool(a), '\\t', b, '\\t' , bool(b) )\n",
    "print( c, '\\t' , bool(c), '\\t', d, '\\t' , bool(d) )\n",
    "print( e, '\\t' , bool(e), '\\t', f, '\\t' , bool(f) )\n",
    "print( g, '\\t' , bool(g), '\\t', h, '\\t' , bool(h) )\n",
    "print(    '\\t' ,          '\\t', i, '\\t' , bool(i) )"
   ]
  },
  {
   "cell_type": "markdown",
   "metadata": {},
   "source": [
    "#  \n",
    "<span style=\"font-family:Arial; font-weight:Bold; font-size:2.3em; color:#00b3e5;\"> Python List\n",
    " - **Indexing** \n",
    " - **Slicing**\n",
    " - **Conditioning**\n",
    " - **Changing Items**\n",
    " - **Adding Items**\n",
    " - **Removing Items**\n",
    " - **Iteration**\n",
    " - **Comprehension**\n",
    " - **Sort**\n",
    " - **Reverse**"
   ]
  },
  {
   "cell_type": "code",
   "execution_count": 12,
   "metadata": {},
   "outputs": [
    {
     "name": "stdout",
     "output_type": "stream",
     "text": [
      "[]\n"
     ]
    }
   ],
   "source": [
    "x = list()\n",
    "print( x )"
   ]
  },
  {
   "cell_type": "markdown",
   "metadata": {},
   "source": [
    "<span style=\"font-family:Arial; font-weight:Bold; font-size:1.8em; color:#00b3e5;\"> Indexing"
   ]
  },
  {
   "cell_type": "code",
   "execution_count": 13,
   "metadata": {},
   "outputs": [
    {
     "data": {
      "text/plain": [
       "0"
      ]
     },
     "execution_count": 13,
     "metadata": {},
     "output_type": "execute_result"
    }
   ],
   "source": [
    "x = [0,1,2,3,4,5,6,7]\n",
    "x[0]"
   ]
  },
  {
   "cell_type": "markdown",
   "metadata": {},
   "source": [
    "<span style=\"font-family:Arial; font-weight:Bold; font-size:1.8em; color:#00b3e5;\"> Slicing"
   ]
  },
  {
   "cell_type": "code",
   "execution_count": 14,
   "metadata": {},
   "outputs": [
    {
     "data": {
      "text/plain": [
       "[1, 2, 3, 4, 5]"
      ]
     },
     "execution_count": 14,
     "metadata": {},
     "output_type": "execute_result"
    }
   ],
   "source": [
    "x = [0,1,2,3,4,5,6,7]\n",
    "x[1:-2]"
   ]
  },
  {
   "cell_type": "markdown",
   "metadata": {},
   "source": [
    "<span style=\"font-family:Arial; font-weight:Bold; font-size:1.8em; color:#00b3e5;\"> Conditioning"
   ]
  },
  {
   "cell_type": "code",
   "execution_count": 15,
   "metadata": {
    "scrolled": true
   },
   "outputs": [
    {
     "name": "stdout",
     "output_type": "stream",
     "text": [
      "Asia\n"
     ]
    }
   ],
   "source": [
    "x = ['Europe','Asia','Australia']\n",
    "if 'Asia' in x:\n",
    "    print( 'Asia' )"
   ]
  },
  {
   "cell_type": "code",
   "execution_count": 16,
   "metadata": {
    "scrolled": true
   },
   "outputs": [
    {
     "name": "stdout",
     "output_type": "stream",
     "text": [
      "Not Found\n"
     ]
    }
   ],
   "source": [
    "x = ['Europe','Asia','Australia']\n",
    "if 'Africa' not in x:\n",
    "    print( 'Not Found' )"
   ]
  },
  {
   "cell_type": "code",
   "execution_count": 17,
   "metadata": {},
   "outputs": [
    {
     "name": "stdout",
     "output_type": "stream",
     "text": [
      "Not Found\n"
     ]
    }
   ],
   "source": [
    "x = ['Europe','Asia','Australia']\n",
    "if not 'Africa' in x:\n",
    "    print( 'Not Found' )"
   ]
  },
  {
   "cell_type": "markdown",
   "metadata": {},
   "source": [
    "<span style=\"font-family:Arial; font-weight:Bold; font-size:1.8em; color:#00b3e5;\"> Changing"
   ]
  },
  {
   "cell_type": "code",
   "execution_count": 18,
   "metadata": {},
   "outputs": [
    {
     "data": {
      "text/plain": [
       "['Europe', 'Africa', 'Australia']"
      ]
     },
     "execution_count": 18,
     "metadata": {},
     "output_type": "execute_result"
    }
   ],
   "source": [
    "x = ['Europe','Asia','Australia']\n",
    "x[1] = 'Africa'\n",
    "x"
   ]
  },
  {
   "cell_type": "code",
   "execution_count": 19,
   "metadata": {},
   "outputs": [
    {
     "data": {
      "text/plain": [
       "[0, 1, 200, 300, 400, 5, 6, 7]"
      ]
     },
     "execution_count": 19,
     "metadata": {},
     "output_type": "execute_result"
    }
   ],
   "source": [
    "x = [0,1,2,3,4,5,6,7]\n",
    "x[2:5] = [200,300,400]\n",
    "x"
   ]
  },
  {
   "cell_type": "markdown",
   "metadata": {},
   "source": [
    "<span style=\"font-family:Arial; font-weight:Bold; font-size:1.8em; color:#00b3e5;\"> Inserting"
   ]
  },
  {
   "cell_type": "code",
   "execution_count": 20,
   "metadata": {},
   "outputs": [
    {
     "data": {
      "text/plain": [
       "['Europe', 'America', 'Asia', 'Australia']"
      ]
     },
     "execution_count": 20,
     "metadata": {},
     "output_type": "execute_result"
    }
   ],
   "source": [
    "x = ['Europe','Asia','Australia']\n",
    "x.insert(1,'America')\n",
    "x"
   ]
  },
  {
   "cell_type": "markdown",
   "metadata": {},
   "source": [
    "<span style=\"font-family:Arial; font-weight:Bold; font-size:1.8em; color:#00b3e5;\"> Removing"
   ]
  },
  {
   "cell_type": "code",
   "execution_count": 21,
   "metadata": {},
   "outputs": [
    {
     "data": {
      "text/plain": [
       "['America', 'Asia', 'Australia', 'Europe']"
      ]
     },
     "execution_count": 21,
     "metadata": {},
     "output_type": "execute_result"
    }
   ],
   "source": [
    "x = ['Europe', 'America', 'Asia', 'Australia','Europe']\n",
    "x.remove('Europe')\n",
    "x"
   ]
  },
  {
   "cell_type": "markdown",
   "metadata": {},
   "source": [
    "<span style=\"font-family:Arial; font-weight:Bold; font-size:1.8em; color:#00b3e5;\"> Extending"
   ]
  },
  {
   "cell_type": "code",
   "execution_count": 22,
   "metadata": {},
   "outputs": [
    {
     "data": {
      "text/plain": [
       "[1, 2, 3, 'A', 'B']"
      ]
     },
     "execution_count": 22,
     "metadata": {},
     "output_type": "execute_result"
    }
   ],
   "source": [
    "A = [ 1, 2, 3  ]\n",
    "B = [ 'A', 'B' ]\n",
    "A.extend(B)\n",
    "A"
   ]
  },
  {
   "cell_type": "markdown",
   "metadata": {},
   "source": [
    "<span style=\"font-family:Arial; font-weight:Bold; font-size:1.8em; color:#00b3e5;\"> Appending"
   ]
  },
  {
   "cell_type": "code",
   "execution_count": 23,
   "metadata": {},
   "outputs": [
    {
     "data": {
      "text/plain": [
       "['Europe', 'Asia', 'Australia', 'America']"
      ]
     },
     "execution_count": 23,
     "metadata": {},
     "output_type": "execute_result"
    }
   ],
   "source": [
    "x = ['Europe','Asia','Australia']\n",
    "x.append('America')\n",
    "x"
   ]
  },
  {
   "cell_type": "markdown",
   "metadata": {},
   "source": [
    "<span style=\"font-family:Arial; font-weight:Bold; font-size:1.8em; color:#00b3e5;\"> Popping"
   ]
  },
  {
   "cell_type": "code",
   "execution_count": 24,
   "metadata": {},
   "outputs": [
    {
     "name": "stdout",
     "output_type": "stream",
     "text": [
      "America\n",
      "Australia\n"
     ]
    },
    {
     "data": {
      "text/plain": [
       "['Europe', 'Asia']"
      ]
     },
     "execution_count": 24,
     "metadata": {},
     "output_type": "execute_result"
    }
   ],
   "source": [
    "x = ['Europe', 'Asia', 'Australia', 'America']\n",
    "print( x.pop() )\n",
    "print( x.pop() )\n",
    "x"
   ]
  },
  {
   "cell_type": "code",
   "execution_count": 25,
   "metadata": {},
   "outputs": [
    {
     "name": "stdout",
     "output_type": "stream",
     "text": [
      "Asia\n",
      "Australia\n"
     ]
    },
    {
     "data": {
      "text/plain": [
       "['Europe', 'America']"
      ]
     },
     "execution_count": 25,
     "metadata": {},
     "output_type": "execute_result"
    }
   ],
   "source": [
    "x = ['Europe', 'Asia', 'Australia', 'America']\n",
    "print( x.pop(1) )\n",
    "print( x.pop(1) )\n",
    "x"
   ]
  },
  {
   "cell_type": "markdown",
   "metadata": {},
   "source": [
    "<span style=\"font-family:Arial; font-weight:Bold; font-size:1.8em; color:#00b3e5;\"> Clearing"
   ]
  },
  {
   "cell_type": "code",
   "execution_count": 26,
   "metadata": {},
   "outputs": [
    {
     "data": {
      "text/plain": [
       "[]"
      ]
     },
     "execution_count": 26,
     "metadata": {},
     "output_type": "execute_result"
    }
   ],
   "source": [
    "x = ['Europe', 'Asia', 'Australia', 'America']\n",
    "x.clear()\n",
    "x"
   ]
  },
  {
   "cell_type": "markdown",
   "metadata": {},
   "source": [
    "<span style=\"font-family:Arial; font-weight:Bold; font-size:1.8em; color:#00b3e5;\"> Deleting"
   ]
  },
  {
   "cell_type": "code",
   "execution_count": 27,
   "metadata": {},
   "outputs": [],
   "source": [
    "x = ['Europe', 'Asia', 'Australia', 'America']\n",
    "del x"
   ]
  },
  {
   "cell_type": "markdown",
   "metadata": {},
   "source": [
    "<span style=\"font-family:Arial; font-weight:Bold; font-size:1.8em; color:#00b3e5;\"> Iteration"
   ]
  },
  {
   "cell_type": "code",
   "execution_count": 28,
   "metadata": {},
   "outputs": [
    {
     "name": "stdout",
     "output_type": "stream",
     "text": [
      "Asia\n",
      "Australia\n"
     ]
    }
   ],
   "source": [
    "x = [ 'Asia', 'Australia' ]\n",
    "for i in x:\n",
    "    print(i)"
   ]
  },
  {
   "cell_type": "code",
   "execution_count": 29,
   "metadata": {},
   "outputs": [
    {
     "name": "stdout",
     "output_type": "stream",
     "text": [
      "Asia\n",
      "Australia\n"
     ]
    }
   ],
   "source": [
    "x = [ 'Asia', 'Australia' ]\n",
    "for i in range(len(x)):\n",
    "    print(x[i])"
   ]
  },
  {
   "cell_type": "markdown",
   "metadata": {},
   "source": [
    "<span style=\"font-family:Arial; font-weight:Bold; font-size:1.8em; color:#00b3e5;\"> comprehension"
   ]
  },
  {
   "cell_type": "code",
   "execution_count": 30,
   "metadata": {},
   "outputs": [
    {
     "data": {
      "text/plain": [
       "['Asia', 'Australia']"
      ]
     },
     "execution_count": 30,
     "metadata": {},
     "output_type": "execute_result"
    }
   ],
   "source": [
    "x = ['Europe', 'Asia', 'Australia', 'America']\n",
    "y = list()\n",
    "for item in x:\n",
    "    if 's' in item:\n",
    "        y.append(item)\n",
    "y"
   ]
  },
  {
   "cell_type": "code",
   "execution_count": 31,
   "metadata": {},
   "outputs": [
    {
     "data": {
      "text/plain": [
       "['Asia', 'Australia']"
      ]
     },
     "execution_count": 31,
     "metadata": {},
     "output_type": "execute_result"
    }
   ],
   "source": [
    "x = ['Europe', 'Asia', 'Australia', 'America']\n",
    "y = [ i for i in x if 's' in i ]\n",
    "y"
   ]
  },
  {
   "cell_type": "markdown",
   "metadata": {},
   "source": [
    "##### "
   ]
  },
  {
   "cell_type": "code",
   "execution_count": 32,
   "metadata": {},
   "outputs": [
    {
     "data": {
      "text/plain": [
       "[0, 1, 2, 3, 4, 5, 6, 7, 0, 1, 2, 3, 4, 5, 6, 7]"
      ]
     },
     "execution_count": 32,
     "metadata": {},
     "output_type": "execute_result"
    }
   ],
   "source": [
    "x = [0,1,2,3,4,5,6,7]\n",
    "y = 2*x\n",
    "y"
   ]
  },
  {
   "cell_type": "code",
   "execution_count": 33,
   "metadata": {},
   "outputs": [
    {
     "data": {
      "text/plain": [
       "[0, 2, 4, 6, 8, 10, 12, 14]"
      ]
     },
     "execution_count": 33,
     "metadata": {},
     "output_type": "execute_result"
    }
   ],
   "source": [
    "x = [0,1,2,3,4,5,6,7]\n",
    "y = list()\n",
    "for i in x:\n",
    "    y.append(2*i)\n",
    "y"
   ]
  },
  {
   "cell_type": "code",
   "execution_count": 34,
   "metadata": {},
   "outputs": [
    {
     "data": {
      "text/plain": [
       "[0, 2, 4, 6, 8, 10, 12, 14]"
      ]
     },
     "execution_count": 34,
     "metadata": {},
     "output_type": "execute_result"
    }
   ],
   "source": [
    "x = [0,1,2,3,4,5,6,7]\n",
    "y = [ 2*i for i in x ]\n",
    "y"
   ]
  },
  {
   "cell_type": "markdown",
   "metadata": {},
   "source": [
    "<span style=\"font-family:Arial; font-weight:Bold; font-size:1.8em; color:#00b3e5;\"> sort( reverse )"
   ]
  },
  {
   "cell_type": "code",
   "execution_count": 35,
   "metadata": {},
   "outputs": [
    {
     "data": {
      "text/plain": [
       "[7, 5, 3, 3, 2, 1, 1, 0]"
      ]
     },
     "execution_count": 35,
     "metadata": {},
     "output_type": "execute_result"
    }
   ],
   "source": [
    "x = [3,0,5,2,7,1,1,3]\n",
    "x.sort( reverse=True )\n",
    "x"
   ]
  },
  {
   "cell_type": "markdown",
   "metadata": {},
   "source": [
    "<span style=\"font-family:Arial; font-weight:Bold; font-size:1.8em; color:#00b3e5;\"> reverse"
   ]
  },
  {
   "cell_type": "code",
   "execution_count": 36,
   "metadata": {},
   "outputs": [
    {
     "data": {
      "text/plain": [
       "['America', 'Australia', 'Asia', 'Europe']"
      ]
     },
     "execution_count": 36,
     "metadata": {},
     "output_type": "execute_result"
    }
   ],
   "source": [
    "x = ['Europe', 'Asia', 'Australia', 'America']\n",
    "x.reverse()\n",
    "x"
   ]
  },
  {
   "cell_type": "markdown",
   "metadata": {},
   "source": [
    "#  \n",
    "<span style=\"font-family:Arial; font-weight:Bold; font-size:2.3em; color:#29d15e;\"> Python Class\n",
    " - **Class** \n",
    " - **Object**\n",
    " - **Constructor**\n",
    " - **Inheritance**\n",
    " - **Inner Class / Nested Class**\n",
    " - **Abstract Class**"
   ]
  },
  {
   "cell_type": "markdown",
   "metadata": {},
   "source": [
    "<span style=\"font-family:Arial; font-weight:Bold; font-size:1.8em; color:#20cc9c;\"> Class"
   ]
  },
  {
   "cell_type": "code",
   "execution_count": 37,
   "metadata": {},
   "outputs": [],
   "source": [
    "class Student:\n",
    "    pass"
   ]
  },
  {
   "cell_type": "markdown",
   "metadata": {},
   "source": [
    "<span style=\"font-family:Arial; font-weight:Bold; font-size:1.8em; color:#20cc9c;\"> Object"
   ]
  },
  {
   "cell_type": "code",
   "execution_count": 38,
   "metadata": {},
   "outputs": [
    {
     "name": "stdout",
     "output_type": "stream",
     "text": [
      "1\n",
      "Rose\n",
      "Content\n",
      "75000\n"
     ]
    }
   ],
   "source": [
    "s1 = Student()\n",
    "\n",
    "s1.id   =  1\n",
    "s1.name = 'Rose'\n",
    "s1.dept = 'Content'\n",
    "s1.fees =  75000\n",
    "\n",
    "print(s1.id)\n",
    "print(s1.name)\n",
    "print(s1.dept)\n",
    "print(s1.fees)"
   ]
  },
  {
   "cell_type": "code",
   "execution_count": 39,
   "metadata": {},
   "outputs": [
    {
     "name": "stdout",
     "output_type": "stream",
     "text": [
      "2\n",
      "Lily\n",
      "Content\n",
      "65000\n"
     ]
    }
   ],
   "source": [
    "s2 = Student()\n",
    "\n",
    "s2.id   =  2\n",
    "s2.name = 'Lily'\n",
    "s2.dept = 'Content'\n",
    "s2.fees =  65000\n",
    "\n",
    "print(s2.id)\n",
    "print(s2.name)\n",
    "print(s2.dept)\n",
    "print(s2.fees)"
   ]
  },
  {
   "cell_type": "markdown",
   "metadata": {},
   "source": [
    "<span style=\"font-family:Arial; font-weight:Bold; font-size:1.8em; color:#20cc9c;\"> Class & Object Example"
   ]
  },
  {
   "cell_type": "code",
   "execution_count": 40,
   "metadata": {},
   "outputs": [
    {
     "name": "stdout",
     "output_type": "stream",
     "text": [
      "Let's start the car!\n"
     ]
    }
   ],
   "source": [
    "class Audi:\n",
    "    def start(self):\n",
    "        print(\"Let's start the car!\")\n",
    "        \n",
    "a1 = Audi()\n",
    "a1.start()"
   ]
  },
  {
   "cell_type": "markdown",
   "metadata": {},
   "source": [
    "<span style=\"font-family:Arial; font-weight:Bold; font-size:1.8em; color:#20cc9c;\"> Constructor"
   ]
  },
  {
   "cell_type": "code",
   "execution_count": 41,
   "metadata": {},
   "outputs": [
    {
     "name": "stdout",
     "output_type": "stream",
     "text": [
      "Welcome Brave Employee!\n",
      "Let's Go!\n",
      "1001\n",
      "50000\n",
      "2000\n"
     ]
    }
   ],
   "source": [
    "class Employee:\n",
    "    def __init__( self, id, salary, bonus ):\n",
    "        print(\"Welcome Brave Employee!\\nLet's Go!\" )\n",
    "        self.id     = id\n",
    "        self.salary = salary\n",
    "        self.bonus  = bonus\n",
    "        \n",
    "e1 = Employee( 1001, 50000, 2000 ) \n",
    "print( e1.id     )\n",
    "print( e1.salary )\n",
    "print( e1.bonus  )"
   ]
  },
  {
   "cell_type": "code",
   "execution_count": 42,
   "metadata": {},
   "outputs": [
    {
     "name": "stdout",
     "output_type": "stream",
     "text": [
      "Welcome Brave Employee!\n",
      "Let's Go!\n",
      "1002\n",
      "55000\n",
      "3000\n"
     ]
    }
   ],
   "source": [
    "class Employee:\n",
    "    def __init__( self, id, salary, bonus ):\n",
    "        print(\"Welcome Brave Employee!\\nLet's Go!\" )\n",
    "        self.id     = id\n",
    "        self.salary = salary\n",
    "        self.bonus  = bonus\n",
    "    \n",
    "    def display_details(self):\n",
    "        print( self.id )\n",
    "        print( self.salary )\n",
    "        print( self.bonus )\n",
    "        \n",
    "e2 = Employee( 1002, 55000, 3000 ) \n",
    "e2.display_details()"
   ]
  },
  {
   "cell_type": "markdown",
   "metadata": {},
   "source": [
    "<span style=\"font-family:Arial; font-weight:Bold; font-size:1.8em; color:#20cc9c;\"> Inner Class / Nested Class"
   ]
  },
  {
   "cell_type": "code",
   "execution_count": 43,
   "metadata": {},
   "outputs": [
    {
     "name": "stdout",
     "output_type": "stream",
     "text": [
      "Welcome Brave Employee!\n",
      "Inner Class Activated\n",
      "1002 55000 3000\n",
      "20000 5000\n"
     ]
    }
   ],
   "source": [
    "class Employee:\n",
    "    def __init__( self, id, salary, bonus ):\n",
    "        print(\"Welcome Brave Employee!\" )\n",
    "        self.id       = id\n",
    "        self.salary   = salary\n",
    "        self.bonus    = bonus\n",
    "        self.facility = self.Facility()\n",
    "    \n",
    "    def display_details(self):\n",
    "        print( self.id, self.salary, self.bonus )\n",
    "        \n",
    "    class Facility:\n",
    "        def __init__( self ):\n",
    "            print('Inner Class Activated')\n",
    "            self.travel = 20000 \n",
    "            self.pf     = 5000 \n",
    "        \n",
    "        def show( self ):\n",
    "            print( self.travel, self.pf )\n",
    "        \n",
    "e2 = Employee( 1002, 55000, 3000 ) \n",
    "e2.display_details()\n",
    "e2.facility.show()"
   ]
  },
  {
   "cell_type": "markdown",
   "metadata": {},
   "source": [
    "<span style=\"font-family:Arial; font-weight:Bold; font-size:1.8em; color:#20cc9c;\"> Inheritance\n",
    " - **Base / Parent / Super Class**\n",
    " - **Derived / Child / Sub Class**\n",
    "<Br><Br>\n",
    " - **Single Inheritance**\n",
    " - **Multiple Inheritance**\n",
    " - **Multilevel Inheritance**"
   ]
  },
  {
   "cell_type": "markdown",
   "metadata": {},
   "source": [
    "<span style=\"font-family:Arial; font-weight:Bold; font-size:1.3em; color:#20cc9c;\"> Single Inheritance"
   ]
  },
  {
   "cell_type": "code",
   "execution_count": 44,
   "metadata": {},
   "outputs": [
    {
     "name": "stdout",
     "output_type": "stream",
     "text": [
      "Base/Parent/Super Class:  Car\n",
      "Derived/Child/Sub Class:  Audi\n"
     ]
    }
   ],
   "source": [
    "class Car:\n",
    "    def x1(self):\n",
    "        print(\"Base/Parent/Super Class:  Car\")\n",
    "    \n",
    "class Audi(Car):\n",
    "    def x2(self):\n",
    "        print(\"Derived/Child/Sub Class:  Audi\")\n",
    "        \n",
    "a = Audi()\n",
    "a.x1() \n",
    "a.x2()"
   ]
  },
  {
   "cell_type": "markdown",
   "metadata": {},
   "source": [
    "<span style=\"font-family:Arial; font-weight:Bold; font-size:1.3em; color:#20cc9c;\"> Multiple Inheritance"
   ]
  },
  {
   "cell_type": "code",
   "execution_count": 45,
   "metadata": {},
   "outputs": [
    {
     "name": "stdout",
     "output_type": "stream",
     "text": [
      "Base/Parent/Super Class:  Car\n",
      "Base/Parent/Super Class:  Vehicle\n",
      "Derived/Child/Sub Class:  Audi\n"
     ]
    }
   ],
   "source": [
    "class Car:\n",
    "    def x1(self):\n",
    "        print(\"Base/Parent/Super Class:  Car\")\n",
    "        \n",
    "class Vehicle:\n",
    "    def x2(self):\n",
    "        print(\"Base/Parent/Super Class:  Vehicle\")\n",
    "    \n",
    "    \n",
    "class Audi(Car,Vehicle):\n",
    "    def x3(self):\n",
    "        print(\"Derived/Child/Sub Class:  Audi\")\n",
    "        \n",
    "a = Audi()\n",
    "a.x1() \n",
    "a.x2()\n",
    "a.x3()"
   ]
  },
  {
   "cell_type": "markdown",
   "metadata": {},
   "source": [
    "<span style=\"font-family:Arial; font-weight:Bold; font-size:1.3em; color:#20cc9c;\"> Multilevel Inheritance"
   ]
  },
  {
   "cell_type": "code",
   "execution_count": 46,
   "metadata": {},
   "outputs": [
    {
     "name": "stdout",
     "output_type": "stream",
     "text": [
      "Base/Parent/Super Class:  Car\n",
      "Base/Parent/Super Class:  Vehicle\n",
      "Derived/Child/Sub Class:  Audi\n",
      "Derived/Child/Sub Class:  R8\n"
     ]
    }
   ],
   "source": [
    "class Car:\n",
    "    def x1(self):\n",
    "        print(\"Base/Parent/Super Class:  Car\")\n",
    "        \n",
    "class Vehicle:\n",
    "    def x2(self):\n",
    "        print(\"Base/Parent/Super Class:  Vehicle\")\n",
    "    \n",
    "    \n",
    "class Audi(Car,Vehicle):\n",
    "    def x3(self):\n",
    "        print(\"Derived/Child/Sub Class:  Audi\")\n",
    "        \n",
    "\n",
    "class R8(Audi):\n",
    "    def x4(self):\n",
    "        print(\"Derived/Child/Sub Class:  R8\")\n",
    "        \n",
    "a = R8()\n",
    "a.x1() \n",
    "a.x2()\n",
    "a.x3()\n",
    "a.x4()"
   ]
  },
  {
   "cell_type": "markdown",
   "metadata": {},
   "source": [
    "<span style=\"font-family:Arial; font-weight:Bold; font-size:1.8em; color:#20cc9c;\"> Abstract Class\n",
    " - **No Object** can be created from an **abstract class**\n",
    " - instead ...\n",
    " - **New Classes** can be **Inherited**"
   ]
  },
  {
   "cell_type": "code",
   "execution_count": 47,
   "metadata": {},
   "outputs": [
    {
     "name": "stdout",
     "output_type": "stream",
     "text": [
      "fees = 75000\n",
      "id   = 1001 \n",
      "dept = Science\n"
     ]
    },
    {
     "data": {
      "text/plain": [
       "1001"
      ]
     },
     "execution_count": 47,
     "metadata": {},
     "output_type": "execute_result"
    }
   ],
   "source": [
    "from abc import ABC, abstractmethod\n",
    "\n",
    "class Student(ABC):\n",
    "    @abstractmethod\n",
    "    def x1(self):\n",
    "        pass\n",
    "    \n",
    "## s1 = Student()    \n",
    "## TypeError: Can't instantiate abstract class Student with abstract method x1\n",
    "\n",
    "class Lily(Student):\n",
    "    def x1(self,fees):   # x1 has an abstract twin\n",
    "        self.fees=fees\n",
    "        print('fees =',self.fees)\n",
    "    def x2(self,id,dept):\n",
    "        self.id   = id\n",
    "        self.dept = dept\n",
    "        print('id   =',self.id, '\\ndept =',self.dept)\n",
    "        \n",
    "s2 = Lily()\n",
    "s2.x1(75000)           \n",
    "s2.x2(1001,'Science')   \n",
    "s2.id"
   ]
  },
  {
   "cell_type": "markdown",
   "metadata": {},
   "source": [
    "#####   "
   ]
  },
  {
   "cell_type": "markdown",
   "metadata": {},
   "source": [
    "#####   "
   ]
  }
 ],
 "metadata": {
  "kernelspec": {
   "display_name": "Python 3 (ipykernel)",
   "language": "python",
   "name": "python3"
  },
  "language_info": {
   "codemirror_mode": {
    "name": "ipython",
    "version": 3
   },
   "file_extension": ".py",
   "mimetype": "text/x-python",
   "name": "python",
   "nbconvert_exporter": "python",
   "pygments_lexer": "ipython3",
   "version": "3.10.13"
  }
 },
 "nbformat": 4,
 "nbformat_minor": 4
}
