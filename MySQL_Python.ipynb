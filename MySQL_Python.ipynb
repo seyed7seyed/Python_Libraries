{
 "cells": [
  {
   "cell_type": "code",
   "execution_count": 1,
   "metadata": {
    "scrolled": true
   },
   "outputs": [],
   "source": [
    "#pip install mysql"
   ]
  },
  {
   "cell_type": "code",
   "execution_count": 2,
   "metadata": {},
   "outputs": [],
   "source": [
    "import mysql.connector"
   ]
  },
  {
   "cell_type": "code",
   "execution_count": 3,
   "metadata": {},
   "outputs": [
    {
     "name": "stdout",
     "output_type": "stream",
     "text": [
      "<mysql.connector.connection.MySQLConnection object at 0x000002580E5D8F10>\n"
     ]
    }
   ],
   "source": [
    "# Connecting To DataBase\n",
    "\n",
    "MyDB = mysql.connector.connect(\n",
    "    host     = \"localhost\",\n",
    "    user     = \"root\",\n",
    "    passwd   = \"Amirr007++\",\n",
    "    #database = \"amir\"\n",
    "    )\n",
    "\n",
    "print(MyDB)"
   ]
  },
  {
   "cell_type": "code",
   "execution_count": 4,
   "metadata": {
    "scrolled": true
   },
   "outputs": [
    {
     "name": "stdout",
     "output_type": "stream",
     "text": [
      "('information_schema',)\n",
      "('amir',)\n",
      "('mysql',)\n",
      "('test',)\n"
     ]
    }
   ],
   "source": [
    "# Showing DataBases\n",
    "MyCursor = MyDB.cursor()\n",
    "\n",
    "MyCursor.execute( \"Show Databases\" )\n",
    "for x in MyCursor: print(x)"
   ]
  },
  {
   "cell_type": "code",
   "execution_count": 5,
   "metadata": {},
   "outputs": [],
   "source": [
    "# Using a DataBaseMy\n",
    "Cursor = MyDB.cursor()\n",
    "\n",
    "sql    = \"USE Amir \"\n",
    "MyCursor.execute( sql )"
   ]
  },
  {
   "cell_type": "code",
   "execution_count": 6,
   "metadata": {},
   "outputs": [
    {
     "name": "stdout",
     "output_type": "stream",
     "text": [
      "('employee',)\n",
      "('employee2',)\n",
      "('peimon',)\n"
     ]
    }
   ],
   "source": [
    "# Creating A Table\n",
    "MyCursor = MyDB.cursor()\n",
    "\n",
    "sql = \"CREATE TABLE PEIMON( \\\n",
    "         FNAME char(12),  \\\n",
    "         LNAME char(15),  \\\n",
    "         AGE   int,       \\\n",
    "         EXPERIENCE int   \\\n",
    "      )\"\n",
    "MyCursor.execute( sql )\n",
    "\n",
    "MyCursor.execute(\"show tables\") \n",
    "for x in MyCursor: print(x)"
   ]
  },
  {
   "cell_type": "code",
   "execution_count": 7,
   "metadata": {},
   "outputs": [
    {
     "name": "stdout",
     "output_type": "stream",
     "text": [
      "('FNAME', 'char(12)', 'YES', '', None, '')\n",
      "('LNAME', 'char(15)', 'YES', '', None, '')\n",
      "('AGE', 'int(11)', 'YES', '', None, '')\n",
      "('EXPERIENCE', 'int(11)', 'YES', '', None, '')\n",
      "('id', 'int(11)', 'NO', 'PRI', None, 'auto_increment')\n"
     ]
    }
   ],
   "source": [
    "# Altering A Table\n",
    "MyCursor = MyDB.cursor()\n",
    "\n",
    "sql = \"ALTER TABLE PEIMON \\\n",
    "         ADD COLUMN id INT AUTO_INCREMENT PRIMARY KEY\"\n",
    "MyCursor.execute( sql ) \n",
    "\n",
    "MyCursor.execute( \"desc PEIMON\" )\n",
    "MyResult = MyCursor.fetchall()\n",
    "for x in MyResult: print(x)"
   ]
  },
  {
   "cell_type": "code",
   "execution_count": 8,
   "metadata": {},
   "outputs": [
    {
     "name": "stdout",
     "output_type": "stream",
     "text": [
      "1 record inserted\n"
     ]
    }
   ],
   "source": [
    "# Inserting One Record into A Table\n",
    "MyCursor = MyDB.cursor()\n",
    "\n",
    "sql = \"INSERT INTO PEIMON \\\n",
    "        (FNAME, LNAME, AGE) \\\n",
    "        VALUES (%s,%s,%s)\"\n",
    "val = ('AA', 'CC', 25)\n",
    "\n",
    "MyCursor.execute( sql, val )\n",
    "MyDB.commit()\n",
    "\n",
    "print(MyCursor.rowcount, \"record inserted\")"
   ]
  },
  {
   "cell_type": "code",
   "execution_count": 9,
   "metadata": {},
   "outputs": [
    {
     "name": "stdout",
     "output_type": "stream",
     "text": [
      "6 records inserted\n"
     ]
    }
   ],
   "source": [
    "# Inserting Many Records into A Table\n",
    "MyCursor = MyDB.cursor()\n",
    "\n",
    "sql = \"INSERT INTO PEIMON \\\n",
    "        (FNAME, LNAME, AGE) \\\n",
    "        VALUES (%s,%s,%s)\"\n",
    "val = [\n",
    "    ('ARA', 'FAF', 25 ),\n",
    "    ('ABC', 'CGN', 16 ),\n",
    "    ('BCB', 'RFD', 27 ),\n",
    "    ('ARB', 'GAF', 19 ),\n",
    "    ('ABD', 'DGN', 35 ),\n",
    "    ('BCC', 'EFD', 17 )\n",
    "      ]\n",
    "\n",
    "MyCursor.executemany( sql, val )\n",
    "MyDB.commit()\n",
    "\n",
    "print(MyCursor.rowcount, \"records inserted\")"
   ]
  },
  {
   "cell_type": "code",
   "execution_count": 19,
   "metadata": {
    "scrolled": false
   },
   "outputs": [
    {
     "name": "stdout",
     "output_type": "stream",
     "text": [
      "('AA', 'CC', 26, None, 1)\n",
      "('ABC', 'CGN', 16, None, 3)\n",
      "('ABD', 'DGN', 35, None, 6)\n",
      "('ARA', 'FAF', 25, None, 2)\n",
      "('ARB', 'GAF', 19, None, 5)\n",
      "('BCB', 'RFD', 27, None, 4)\n",
      "('BCC', 'EFD', 17, None, 7)\n"
     ]
    }
   ],
   "source": [
    "# Selecting\n",
    "MyCursor = MyDB.cursor()\n",
    "\n",
    "sql_0 = \"select * from Peimon \"\n",
    "sql_1 = \"select * from Peimon  LIMIT 3 \"\n",
    "sql_2 = \"select * from Peimon  where FNAME='AA' \"\n",
    "sql_3 = \"select * from Peimon  where FNAME like '%A%' \"\n",
    "sql_4 = \"select * from Peimon  order by FNAME ASC, LNAME DESC \"\n",
    "MyCursor.execute( sql_4 )\n",
    "\n",
    "MyResult = MyCursor.fetchall()\n",
    "for x in MyResult: print(x)"
   ]
  },
  {
   "cell_type": "code",
   "execution_count": 20,
   "metadata": {},
   "outputs": [],
   "source": [
    "# Updating Records\n",
    "MyCursor = MyDB.cursor()\n",
    "\n",
    "sql = \"UPDATE Peimon   SET AGE=26   WHERE FNAME='AA' \" \n",
    "MyCursor.execute( sql ) "
   ]
  },
  {
   "cell_type": "code",
   "execution_count": 21,
   "metadata": {},
   "outputs": [
    {
     "name": "stdout",
     "output_type": "stream",
     "text": [
      "('employee',)\n",
      "('employee2',)\n"
     ]
    }
   ],
   "source": [
    "# Dropping A Table\n",
    "MyCursor = MyDB.cursor()\n",
    "\n",
    "sql = \"DROP TABLE Peimon \" \n",
    "MyCursor.execute( sql )\n",
    "\n",
    "sql = \"SHOW TABLES\"\n",
    "MyCursor.execute( sql )\n",
    "MyResult = MyCursor.fetchall()\n",
    "for x in MyResult: print(x)"
   ]
  },
  {
   "cell_type": "code",
   "execution_count": null,
   "metadata": {},
   "outputs": [],
   "source": []
  }
 ],
 "metadata": {
  "kernelspec": {
   "display_name": "Python 3 (ipykernel)",
   "language": "python",
   "name": "python3"
  },
  "language_info": {
   "codemirror_mode": {
    "name": "ipython",
    "version": 3
   },
   "file_extension": ".py",
   "mimetype": "text/x-python",
   "name": "python",
   "nbconvert_exporter": "python",
   "pygments_lexer": "ipython3",
   "version": "3.10.9"
  }
 },
 "nbformat": 4,
 "nbformat_minor": 4
}
